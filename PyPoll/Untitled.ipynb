{
 "cells": [
  {
   "cell_type": "code",
   "execution_count": 68,
   "metadata": {},
   "outputs": [],
   "source": [
    "# import the os, csv and statistics modules\n",
    "import os\n",
    "import csv"
   ]
  },
  {
   "cell_type": "code",
   "execution_count": 69,
   "metadata": {},
   "outputs": [],
   "source": [
    "# Create a file path for the election_data csv file\n",
    "csvpath = os.path.join('Resources', 'election_data.csv')"
   ]
  },
  {
   "cell_type": "code",
   "execution_count": 70,
   "metadata": {},
   "outputs": [],
   "source": [
    "# Read in the csv file\n",
    "with open(csvpath, newline='') as csvfile:\n",
    "\n",
    "    # Using the csvfile object create csvreader variable identifying the delimiter as a comma\n",
    "    csvreader = csv.reader(csvfile, delimiter=',')\n",
    "\n",
    "    # Set variable to capture two columns of data VoterID and Candidate name\n",
    "    idList = []\n",
    "    canList = []\n",
    "    canDict = {}\n",
    "    \n",
    "        # Read each row of data and capture VoterID and Candidate name into a dictionary idDict\n",
    "    for row in csvreader:\n",
    "        # Check if the line read in is the header - if it is don't add it to the idDict\n",
    "        if row[0] != \"Voter ID\":\n",
    "               \n",
    "            idList.append(row[0])\n",
    "            canList.append(row[2])\n",
    "\n",
    " "
   ]
  },
  {
   "cell_type": "code",
   "execution_count": 71,
   "metadata": {},
   "outputs": [],
   "source": [
    "# Check if there is more than one occurance of the VoterID (this would be voter fraud) \n",
    "if len(idList) != len(set(idList)):\n",
    "    print(f'Looks like there is voter fraud!')\n",
    "else:\n",
    "    # Determine the total votes by looking at the length of the list idList\n",
    "    totalVotes = len(idList)\n",
    "    # Store the unique list of candidate names by taking a set of canList list\n",
    "    candidatesVoted = (list(set(canList)))\n",
    "    \n",
    "    winner = ''\n",
    "    winvotes = 0\n",
    "    \n",
    "    # Store the number of votes each candidate received and the percentage of the total votes as values in a dictionary\n",
    "    # with the candidate name as the key\n",
    "    for cand in candidatesVoted:\n",
    "        canDict[cand] = [canList.count(cand),round(canList.count(cand)/totalVotes*100,3)]\n",
    "        # Check if the number of votes the current candidate has is greater than the current winvotes variable\n",
    "        # If it is then replace the value of winvotes with the new higher count and set the winner variable to the\n",
    "        # name of the current candidate\n",
    "        if int(canList.count(cand)) > winvotes:\n",
    "            winvotes = int(canList.count(cand))\n",
    "            winner = cand\n",
    "\n",
    "        \n"
   ]
  },
  {
   "cell_type": "code",
   "execution_count": 72,
   "metadata": {},
   "outputs": [
    {
     "name": "stdout",
     "output_type": "stream",
     "text": [
      "Election Results\n",
      "------------------------------\n",
      "Total Votes: 3,521,001\n",
      "------------------------------\n",
      "Khan: 63.0% 2,218,231\n",
      "Li: 14.0% 492,940\n",
      "Correy: 20.0% 704,200\n",
      "O'Tooley: 3.0% 105,630\n",
      "------------------------------\n",
      "Winner: Khan\n"
     ]
    }
   ],
   "source": [
    "# create an empty list to store output f strings for results\n",
    "results = []\n",
    "\n",
    "# Append each result string to the results list\n",
    "results.append(f'Election Results')\n",
    "results.append(f'------------------------------')\n",
    "results.append(f'Total Votes: {totalVotes:,}')\n",
    "results.append(f'------------------------------')\n",
    "# Iterate through the canDict dictionary and print out the results to the screen\n",
    "for candidate in canDict.keys():\n",
    "    results.append(f'{candidate}: {canDict[candidate][1]}% {canDict[candidate][0]:,}')\n",
    "results.append(f'------------------------------')\n",
    "results.append(f'Winner: {winner}')\n",
    "\n",
    "\n",
    "# Iterate through the list of strings and print each one to the terminal\n",
    "for result in results:\n",
    "    print(result)\n",
    "\n",
    "# Print results to a file named pybank_results.csv\n",
    "\n",
    "# Set variable for output file path\n",
    "output_file = os.path.join('Resources','pyPoll_results.csv')\n",
    "\n",
    "#  Open the output file path using a context manager\n",
    "with open(output_file, \"w\", newline=\"\") as datafile:\n",
    "    # pass the datafile object to the writer\n",
    "    writer = csv.writer(datafile)\n",
    "\n",
    "    # Write the result as a separate line from the list results (each element is a string) \n",
    "    # so we need to use a nested list to write each string as a separate line because the\n",
    "    # .writerows method takes an iterable and uses each element of that iterable for each column\n",
    "    for result in results:\n",
    "        writer.writerows([[result]])"
   ]
  },
  {
   "cell_type": "code",
   "execution_count": null,
   "metadata": {},
   "outputs": [],
   "source": []
  }
 ],
 "metadata": {
  "kernelspec": {
   "display_name": "Python 3",
   "language": "python",
   "name": "python3"
  },
  "language_info": {
   "codemirror_mode": {
    "name": "ipython",
    "version": 3
   },
   "file_extension": ".py",
   "mimetype": "text/x-python",
   "name": "python",
   "nbconvert_exporter": "python",
   "pygments_lexer": "ipython3",
   "version": "3.7.4"
  }
 },
 "nbformat": 4,
 "nbformat_minor": 2
}
